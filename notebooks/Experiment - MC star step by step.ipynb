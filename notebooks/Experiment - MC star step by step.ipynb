{
 "cells": [
  {
   "cell_type": "markdown",
   "metadata": {},
   "source": [
    "### MC star experiment step by step\n",
    "\n",
    "Starting from a star graph apply the simulated annealing heuristic. store the topologies and plot the progress in regular steps."
   ]
  },
  {
   "cell_type": "code",
   "execution_count": 1,
   "metadata": {},
   "outputs": [],
   "source": [
    "import numpy as np\n",
    "import matplotlib.pyplot as plt\n",
    "import networkx as nx\n",
    "import pickle\n",
    "import sys\n",
    "\n",
    "%load_ext autoreload\n",
    "%autoreload 2\n",
    "\n",
    "sys.path.append('../utils/')\n",
    "\n",
    "from mc_update import monte_carlo_step\n",
    "from helper_fcts import generate_random_bot_problem\n",
    "from iterative_BOT_solver import iterative_bot_solver"
   ]
  },
  {
   "cell_type": "code",
   "execution_count": null,
   "metadata": {},
   "outputs": [
    {
     "name": "stdout",
     "output_type": "stream",
     "text": [
      "500 iterations.\n",
      "1000 iterations.\n",
      "1500 iterations.\n"
     ]
    }
   ],
   "source": [
    "seed=138\n",
    "np.random.seed(seed)\n",
    "num_terminals = 100\n",
    "\n",
    "cost_arr = np.array([])\n",
    "topo_dict = {}\n",
    "\n",
    "num_sources = np.random.randint(1, num_terminals)\n",
    "num_sinks = num_terminals - num_sources\n",
    "bot_problem_dict = generate_random_bot_problem(num_sources, num_sinks, normalised_to=1, dim=2,\n",
    "                                                       max_length=1.)\n",
    "\n",
    "al = bot_problem_dict[\"al\"]\n",
    "coords_sources = bot_problem_dict[\"coords_sources\"]\n",
    "coords_sinks = bot_problem_dict[\"coords_sinks\"]\n",
    "supply_arr = bot_problem_dict[\"supply_arr\"]\n",
    "demand_arr = bot_problem_dict[\"demand_arr\"]\n",
    "\n",
    "# init star graph:\n",
    "topo = nx.Graph()\n",
    "for node in range(len(supply_arr) + len(demand_arr)):\n",
    "    topo.add_edge(-1, node)\n",
    "    \n",
    "topo_dict[0] = topo.copy()\n",
    "\n",
    "cost, coords_iter = iterative_bot_solver(topo, supply_arr, demand_arr, coords_sources, coords_sinks, al,\n",
    "                                         relative_improvement_threshold=1e-6, min_iterations=-1,\n",
    "                                         max_iterations=1000,\n",
    "                                         plot=False, title=\"\", fov=None, save=False, save_name=\"img\")\n",
    "\n",
    "cost_arr = np.append(cost_arr, cost)\n",
    "# MC iterations:\n",
    "iteration = 0\n",
    "T=0\n",
    "sample_edge_list = list(topo.edges())\n",
    "keep_going = True\n",
    "while keep_going and iteration < 60000:\n",
    "    iteration += 1\n",
    "    topo, sample_edge_list, cost, coords_iter, accepted = monte_carlo_step(topo, sample_edge_list, cost,\n",
    "                                    coords_iter, bot_problem_dict, temperature=T)\n",
    "    cost_arr = np.append(cost_arr, cost)\n",
    "    topo_dict[iteration] = topo.copy()\n",
    "    \n",
    "    # check if converged:\n",
    "    if len(sample_edge_list) == 0:\n",
    "        # this means that we have stuck with one topology for an entire run through.\n",
    "        keep_going = False\n",
    "    \n",
    "    if iteration % 500 == 0:\n",
    "        print(f\"{iteration} iterations.\")\n",
    "        \n",
    "# store the results in a pickle file:\n",
    "results_dict = {\"cost_arr\":cost_arr, \"topo_dict\":topo_dict}\n",
    "pkl_file_path = f\"../results/output_files/stepMC_star_seed{seed}.pkl\"\n",
    "output = open(pkl_file_path, 'wb')\n",
    "pickle.dump(results_dict, output)\n",
    "output.close()"
   ]
  },
  {
   "cell_type": "code",
   "execution_count": null,
   "metadata": {},
   "outputs": [],
   "source": [
    "seed=138\n",
    "np.random.seed(seed)\n",
    "num_terminals = 100\n",
    "\n",
    "num_sources = np.random.randint(1, num_terminals)\n",
    "num_sinks = num_terminals - num_sources\n",
    "bot_problem_dict = generate_random_bot_problem(num_sources, num_sinks, normalised_to=1, dim=2,\n",
    "                                                       max_length=1.)\n",
    "\n",
    "al = bot_problem_dict[\"al\"]\n",
    "coords_sources = bot_problem_dict[\"coords_sources\"]\n",
    "coords_sinks = bot_problem_dict[\"coords_sinks\"]\n",
    "supply_arr = bot_problem_dict[\"supply_arr\"]\n",
    "demand_arr = bot_problem_dict[\"demand_arr\"]"
   ]
  },
  {
   "cell_type": "code",
   "execution_count": null,
   "metadata": {},
   "outputs": [],
   "source": [
    "seed=138\n",
    "pkl_file_path = pkl_file_path = f\"../results/output_files/stepMC_star_seed{seed}.pkl\"\n",
    "pkl_file = open(pkl_file_path, 'rb')\n",
    "results_dict = pickle.load(pkl_file)\n",
    "pkl_file.close()\n",
    "cost_arr = results_dict[\"cost_arr\"]\n",
    "topo_dict = results_dict[\"topo_dict\"]"
   ]
  },
  {
   "cell_type": "code",
   "execution_count": null,
   "metadata": {},
   "outputs": [],
   "source": [
    "interval = [0,100,200,400,700,1000,len(cost_arr)-1]\n",
    "l = [\"(b)\",\"(c)\",\"(d)\",\"(e)\",\"(f)\",\"(g)\",\"(h)\"]\n",
    "\n",
    "plt.figure(figsize=(8,6))\n",
    "plt.plot(np.arange(len(cost_arr)), cost_arr)\n",
    "plt.xlabel(\"iteration\",fontsize = 15)\n",
    "plt.ylabel(\"cost of accepted solution\",fontsize = 15)\n",
    "#for i in interval:\n",
    "#    plt.axvline(i, ymin=cost_arr[i]/5, ymax = 0.8, color=\"k\")\n",
    "plt.scatter(0,5.2, color=\"w\")\n",
    "plt.xticks(fontsize=12)\n",
    "plt.yticks(fontsize=12)\n",
    "for i,_ in enumerate(interval):\n",
    "    plt.annotate(l[i], xy=(interval[i], cost_arr[interval[i]] + 0.1), xytext=(interval[i]-45, 5), fontsize=13.5, arrowprops=dict(arrowstyle=\"->\"))\n",
    "#plt.savefig(f\"MCcost{seed}.pdf\")\n",
    "plt.show()"
   ]
  },
  {
   "cell_type": "code",
   "execution_count": null,
   "metadata": {},
   "outputs": [],
   "source": [
    "interval = [0,10,20,30,40,50,60,70,80,90,100,150,200,300,400,500,600,700,1000,len(cost_arr)-1]\n",
    "count = 0\n",
    "for i,_ in enumerate(topo_dict):\n",
    "    if i not in interval:\n",
    "        continue\n",
    "    print(\"iteration:\", i)\n",
    "    count +=1\n",
    "    topo = topo_dict[i]\n",
    "    \n",
    "    _ = iterative_bot_solver(topo, supply_arr, demand_arr, coords_sources, coords_sinks, al,\n",
    "                                         relative_improvement_threshold=1e-6, min_iterations=-1,\n",
    "                                         max_iterations=1000,\n",
    "                                         plot=True, title=\"\", fov=None, save=False, save_name=f\"img3{count}_seed{seed}\")"
   ]
  },
  {
   "cell_type": "code",
   "execution_count": null,
   "metadata": {},
   "outputs": [],
   "source": []
  }
 ],
 "metadata": {
  "kernelspec": {
   "display_name": "Python 3 (ipykernel)",
   "language": "python",
   "name": "python3"
  },
  "language_info": {
   "codemirror_mode": {
    "name": "ipython",
    "version": 3
   },
   "file_extension": ".py",
   "mimetype": "text/x-python",
   "name": "python",
   "nbconvert_exporter": "python",
   "pygments_lexer": "ipython3",
   "version": "3.9.13"
  }
 },
 "nbformat": 4,
 "nbformat_minor": 4
}
