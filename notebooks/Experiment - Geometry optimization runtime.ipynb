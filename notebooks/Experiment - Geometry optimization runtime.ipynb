{
 "cells": [
  {
   "cell_type": "markdown",
   "metadata": {
    "tags": []
   },
   "source": [
    "# Experiment: Investigate the run time of numerical geometry optimization"
   ]
  },
  {
   "cell_type": "code",
   "execution_count": 1,
   "metadata": {},
   "outputs": [],
   "source": [
    "import numpy as np\n",
    "import matplotlib.pyplot as plt\n",
    "import networkx as nx\n",
    "import pickle\n",
    "import sys\n",
    "import time\n",
    "from tqdm.auto import tqdm\n",
    "\n",
    "%load_ext autoreload\n",
    "%autoreload 2\n",
    "\n",
    "sys.path.append('../src/')\n",
    "\n",
    "from utils import generate_random_bot_problem, generate_random_binary_tree_topo\n",
    "from iterative_geometry_solver import iterative_geometry_solver"
   ]
  },
  {
   "cell_type": "code",
   "execution_count": 2,
   "metadata": {},
   "outputs": [
    {
     "name": "stdout",
     "output_type": "stream",
     "text": [
      "num_terminals=10\n"
     ]
    },
    {
     "data": {
      "application/vnd.jupyter.widget-view+json": {
       "model_id": "8ee755fbb3004a789657be4c16a2d65e",
       "version_major": 2,
       "version_minor": 0
      },
      "text/plain": [
       "  0%|          | 0/1000 [00:00<?, ?it/s]"
      ]
     },
     "metadata": {},
     "output_type": "display_data"
    },
    {
     "name": "stdout",
     "output_type": "stream",
     "text": [
      "num_terminals=20\n"
     ]
    },
    {
     "data": {
      "application/vnd.jupyter.widget-view+json": {
       "model_id": "7e6fbef090af41a6b13db9391c7ad3b7",
       "version_major": 2,
       "version_minor": 0
      },
      "text/plain": [
       "  0%|          | 0/1000 [00:00<?, ?it/s]"
      ]
     },
     "metadata": {},
     "output_type": "display_data"
    },
    {
     "name": "stdout",
     "output_type": "stream",
     "text": [
      "num_terminals=30\n"
     ]
    },
    {
     "data": {
      "application/vnd.jupyter.widget-view+json": {
       "model_id": "49624917b8a04eee8c99d6cc0e6da72a",
       "version_major": 2,
       "version_minor": 0
      },
      "text/plain": [
       "  0%|          | 0/1000 [00:00<?, ?it/s]"
      ]
     },
     "metadata": {},
     "output_type": "display_data"
    },
    {
     "name": "stdout",
     "output_type": "stream",
     "text": [
      "num_terminals=50\n"
     ]
    },
    {
     "data": {
      "application/vnd.jupyter.widget-view+json": {
       "model_id": "009260513a454edbb8c3a4a1b4f5fb8b",
       "version_major": 2,
       "version_minor": 0
      },
      "text/plain": [
       "  0%|          | 0/1000 [00:00<?, ?it/s]"
      ]
     },
     "metadata": {},
     "output_type": "display_data"
    },
    {
     "name": "stdout",
     "output_type": "stream",
     "text": [
      "num_terminals=70\n"
     ]
    },
    {
     "data": {
      "application/vnd.jupyter.widget-view+json": {
       "model_id": "8e38c3b550504cb284bc58e7998b961d",
       "version_major": 2,
       "version_minor": 0
      },
      "text/plain": [
       "  0%|          | 0/1000 [00:00<?, ?it/s]"
      ]
     },
     "metadata": {},
     "output_type": "display_data"
    },
    {
     "name": "stdout",
     "output_type": "stream",
     "text": [
      "num_terminals=100\n"
     ]
    },
    {
     "data": {
      "application/vnd.jupyter.widget-view+json": {
       "model_id": "a1d10916ccbf4419915a6e2fe04e14df",
       "version_major": 2,
       "version_minor": 0
      },
      "text/plain": [
       "  0%|          | 0/1000 [00:00<?, ?it/s]"
      ]
     },
     "metadata": {},
     "output_type": "display_data"
    },
    {
     "name": "stdout",
     "output_type": "stream",
     "text": [
      "num_terminals=150\n"
     ]
    },
    {
     "data": {
      "application/vnd.jupyter.widget-view+json": {
       "model_id": "e5cf334ca479426f8c12eae890432a54",
       "version_major": 2,
       "version_minor": 0
      },
      "text/plain": [
       "  0%|          | 0/1000 [00:00<?, ?it/s]"
      ]
     },
     "metadata": {},
     "output_type": "display_data"
    },
    {
     "name": "stdout",
     "output_type": "stream",
     "text": [
      "num_terminals=200\n"
     ]
    },
    {
     "data": {
      "application/vnd.jupyter.widget-view+json": {
       "model_id": "97396b6d2cbc49419e602fa438bf36f0",
       "version_major": 2,
       "version_minor": 0
      },
      "text/plain": [
       "  0%|          | 0/1000 [00:00<?, ?it/s]"
      ]
     },
     "metadata": {},
     "output_type": "display_data"
    },
    {
     "name": "stdout",
     "output_type": "stream",
     "text": [
      "num_terminals=300\n"
     ]
    },
    {
     "data": {
      "application/vnd.jupyter.widget-view+json": {
       "model_id": "b40a19c9cbcb4efa81de978fde5bc5d5",
       "version_major": 2,
       "version_minor": 0
      },
      "text/plain": [
       "  0%|          | 0/1000 [00:00<?, ?it/s]"
      ]
     },
     "metadata": {},
     "output_type": "display_data"
    },
    {
     "name": "stdout",
     "output_type": "stream",
     "text": [
      "num_terminals=400\n"
     ]
    },
    {
     "data": {
      "application/vnd.jupyter.widget-view+json": {
       "model_id": "d4867d3e763c424dbc8fb0dce125d3b1",
       "version_major": 2,
       "version_minor": 0
      },
      "text/plain": [
       "  0%|          | 0/1000 [00:00<?, ?it/s]"
      ]
     },
     "metadata": {},
     "output_type": "display_data"
    },
    {
     "name": "stdout",
     "output_type": "stream",
     "text": [
      "num_terminals=500\n"
     ]
    },
    {
     "data": {
      "application/vnd.jupyter.widget-view+json": {
       "model_id": "e242100712944abe842a496c458f3f9b",
       "version_major": 2,
       "version_minor": 0
      },
      "text/plain": [
       "  0%|          | 0/1000 [00:00<?, ?it/s]"
      ]
     },
     "metadata": {},
     "output_type": "display_data"
    },
    {
     "name": "stdout",
     "output_type": "stream",
     "text": [
      "num_terminals=600\n"
     ]
    },
    {
     "data": {
      "application/vnd.jupyter.widget-view+json": {
       "model_id": "6b2078bee254452fa51e7b9d9faadbb3",
       "version_major": 2,
       "version_minor": 0
      },
      "text/plain": [
       "  0%|          | 0/1000 [00:00<?, ?it/s]"
      ]
     },
     "metadata": {},
     "output_type": "display_data"
    },
    {
     "name": "stdout",
     "output_type": "stream",
     "text": [
      "num_terminals=700\n"
     ]
    },
    {
     "data": {
      "application/vnd.jupyter.widget-view+json": {
       "model_id": "ffbcf34230554898b63b0245547c6816",
       "version_major": 2,
       "version_minor": 0
      },
      "text/plain": [
       "  0%|          | 0/1000 [00:00<?, ?it/s]"
      ]
     },
     "metadata": {},
     "output_type": "display_data"
    },
    {
     "name": "stdout",
     "output_type": "stream",
     "text": [
      "num_terminals=800\n"
     ]
    },
    {
     "data": {
      "application/vnd.jupyter.widget-view+json": {
       "model_id": "c717f0b70a604f7880e1fa57845d084a",
       "version_major": 2,
       "version_minor": 0
      },
      "text/plain": [
       "  0%|          | 0/1000 [00:00<?, ?it/s]"
      ]
     },
     "metadata": {},
     "output_type": "display_data"
    },
    {
     "name": "stdout",
     "output_type": "stream",
     "text": [
      "num_terminals=900\n"
     ]
    },
    {
     "data": {
      "application/vnd.jupyter.widget-view+json": {
       "model_id": "7e2608a08e404be78836f06cfb9e0e9d",
       "version_major": 2,
       "version_minor": 0
      },
      "text/plain": [
       "  0%|          | 0/1000 [00:00<?, ?it/s]"
      ]
     },
     "metadata": {},
     "output_type": "display_data"
    },
    {
     "name": "stdout",
     "output_type": "stream",
     "text": [
      "num_terminals=1000\n"
     ]
    },
    {
     "data": {
      "application/vnd.jupyter.widget-view+json": {
       "model_id": "e66fab49e03f4487b1d6b4bee2b5bc55",
       "version_major": 2,
       "version_minor": 0
      },
      "text/plain": [
       "  0%|          | 0/1000 [00:00<?, ?it/s]"
      ]
     },
     "metadata": {},
     "output_type": "display_data"
    }
   ],
   "source": [
    "num_terminals_list = [10,20,30,50,70,100,150,200,300,400,500,600,700,800,900,1000]\n",
    "N = 1000\n",
    "\n",
    "for num_terminals in num_terminals_list:\n",
    "    time_arr = np.zeros(N)\n",
    "    time_arr_low = np.array([])\n",
    "    time_arr_high = np.array([])\n",
    "    print(f\"{num_terminals=}\")\n",
    "    for k in tqdm(range(N)):\n",
    "        # generate random bot problem:\n",
    "        num_sources = np.random.randint(1, num_terminals)\n",
    "        num_sinks = num_terminals - num_sources\n",
    "        bot_problem_dict = generate_random_bot_problem(num_sources, num_sinks, normalised_to=1, dim=2,\n",
    "                                                               max_length=1.)\n",
    "\n",
    "        al = bot_problem_dict[\"al\"]\n",
    "        coords_sources = bot_problem_dict[\"coords_sources\"]\n",
    "        coords_sinks = bot_problem_dict[\"coords_sinks\"]\n",
    "        supply_arr = bot_problem_dict[\"supply_arr\"]\n",
    "        demand_arr = bot_problem_dict[\"demand_arr\"]\n",
    "\n",
    "        # generate random full tree topology:\n",
    "        topo = generate_random_binary_tree_topo(num_terminals)\n",
    "\n",
    "        time0 = time.time()\n",
    "        cost, coords_iter = iterative_geometry_solver(topo, supply_arr, demand_arr, coords_sources, coords_sinks, al,\n",
    "                                                 relative_improvement_threshold=1e-6, min_iterations=-1,\n",
    "                                                 max_iterations=2000,\n",
    "                                                 plot=False, title=\"\", fov=None, save=False, save_name=\"img\")\n",
    "\n",
    "        dt = time.time() - time0\n",
    "        time_arr[k] = dt\n",
    "        if al <= 0.5:\n",
    "            time_arr_low = np.append(time_arr_low, dt)\n",
    "        else:\n",
    "            time_arr_high = np.append(time_arr_high, dt)\n",
    "\n",
    "    # store the results in a pickle file:\n",
    "    results_dict = {\"time_arr\":time_arr, \"time_arr_low\":time_arr_low, \"time_arr_high\":time_arr_high}\n",
    "    pkl_file_path = f\"../results/output_files/geom_optimization_size{num_terminals}.pkl\"\n",
    "    output = open(pkl_file_path, 'wb')\n",
    "    pickle.dump(results_dict, output)\n",
    "    output.close()"
   ]
  },
  {
   "cell_type": "code",
   "execution_count": 4,
   "metadata": {},
   "outputs": [
    {
     "data": {
      "image/png": "[encoded data removed]",
      "text/plain": [
       "<Figure size 640x480 with 1 Axes>"
      ]
     },
     "metadata": {},
     "output_type": "display_data"
    }
   ],
   "source": [
    "# plot the result:\n",
    "mean_arr = np.zeros(len(num_terminals_list))\n",
    "std_arr = np.zeros(len(num_terminals_list))\n",
    "mean_low_arr = np.zeros(len(num_terminals_list))\n",
    "mean_high_arr = np.zeros(len(num_terminals_list))\n",
    "\n",
    "for i,num_terminals in enumerate(num_terminals_list):\n",
    "    pkl_file_path = f\"../results/output_files/geom_optimization_size{num_terminals}.pkl\"\n",
    "    pkl_file = open(pkl_file_path, 'rb')\n",
    "    results_dict = pickle.load(pkl_file)\n",
    "    pkl_file.close()\n",
    "    \n",
    "    mean_arr[i] = np.mean(results_dict[\"time_arr\"])\n",
    "    std_arr[i] = np.std(results_dict[\"time_arr\"])\n",
    "    mean_low_arr[i] = np.mean(results_dict[\"time_arr_low\"])\n",
    "    mean_high_arr[i] = np.mean(results_dict[\"time_arr_high\"])\n",
    "    \n",
    "plt.errorbar(num_terminals_list, mean_arr, yerr=std_arr, fmt=\".-\", capsize=3, label=\"all $\\\\alpha$\")\n",
    "\n",
    "plt.plot(num_terminals_list, mean_low_arr, \":\", label=\"$\\\\alpha \\\\leq 0.5$\")\n",
    "plt.plot(num_terminals_list, mean_high_arr, \"--\", label=\"$\\\\alpha > 0.5$\", alpha = 0.8)\n",
    "\n",
    "plt.grid()\n",
    "plt.ylabel(\"runtime in $s$\", fontsize=12)\n",
    "plt.xlabel(\"number of terminals $n$\", fontsize=12)\n",
    "plt.xticks(fontsize=11)\n",
    "plt.yticks(fontsize=11)\n",
    "plt.legend(fontsize=12)\n",
    "# plt.savefig(\"geom_optimization_runtime.pdf\")\n",
    "plt.show()"
   ]
  },
  {
   "cell_type": "code",
   "execution_count": null,
   "metadata": {},
   "outputs": [],
   "source": []
  }
 ],
 "metadata": {
  "kernelspec": {
   "display_name": "Python 3 (ipykernel)",
   "language": "python",
   "name": "python3"
  },
  "language_info": {
   "codemirror_mode": {
    "name": "ipython",
    "version": 3
   },
   "file_extension": ".py",
   "mimetype": "text/x-python",
   "name": "python",
   "nbconvert_exporter": "python",
   "pygments_lexer": "ipython3",
   "version": "3.9.13"
  }
 },
 "nbformat": 4,
 "nbformat_minor": 4
}
