{
 "cells": [
  {
   "cell_type": "markdown",
   "metadata": {},
   "source": [
    "### Evaluate performance/ scaling of Smith solver"
   ]
  },
  {
   "cell_type": "code",
   "execution_count": 1,
   "metadata": {},
   "outputs": [],
   "source": [
    "import numpy as np\n",
    "import matplotlib.pyplot as plt\n",
    "import networkx as nx\n",
    "import pickle\n",
    "import sys\n",
    "import time\n",
    "from tqdm import tqdm\n",
    "\n",
    "%load_ext autoreload\n",
    "%autoreload 2\n",
    "\n",
    "sys.path.append('../utils/')\n",
    "\n",
    "from helper_fcts import generate_random_bot_problem, generate_random_binary_tree_topo\n",
    "from iterative_BOT_solver import iterative_bot_solver"
   ]
  },
  {
   "cell_type": "code",
   "execution_count": 2,
   "metadata": {},
   "outputs": [
    {
     "name": "stderr",
     "output_type": "stream",
     "text": [
      "100%|███████████████████████████████████████| 1000/1000 [00:41<00:00, 23.94it/s]\n"
     ]
    },
    {
     "ename": "FileNotFoundError",
     "evalue": "[Errno 2] No such file or directory: 'results/smith_size10.pkl'",
     "output_type": "error",
     "traceback": [
      "\u001b[0;31m---------------------------------------------------------------------------\u001b[0m",
      "\u001b[0;31mFileNotFoundError\u001b[0m                         Traceback (most recent call last)",
      "Cell \u001b[0;32mIn [2], line 39\u001b[0m\n\u001b[1;32m     37\u001b[0m results_dict \u001b[38;5;241m=\u001b[39m {\u001b[38;5;124m\"\u001b[39m\u001b[38;5;124mtime_arr\u001b[39m\u001b[38;5;124m\"\u001b[39m:time_arr, \u001b[38;5;124m\"\u001b[39m\u001b[38;5;124mtime_arr_low\u001b[39m\u001b[38;5;124m\"\u001b[39m:time_arr_low, \u001b[38;5;124m\"\u001b[39m\u001b[38;5;124mtime_arr_high\u001b[39m\u001b[38;5;124m\"\u001b[39m:time_arr_high}\n\u001b[1;32m     38\u001b[0m pkl_file_path \u001b[38;5;241m=\u001b[39m \u001b[38;5;124mf\u001b[39m\u001b[38;5;124m\"\u001b[39m\u001b[38;5;124mresults/smith_size\u001b[39m\u001b[38;5;132;01m{\u001b[39;00mnum_terminals\u001b[38;5;132;01m}\u001b[39;00m\u001b[38;5;124m.pkl\u001b[39m\u001b[38;5;124m\"\u001b[39m\n\u001b[0;32m---> 39\u001b[0m output \u001b[38;5;241m=\u001b[39m \u001b[38;5;28mopen\u001b[39m(pkl_file_path, \u001b[38;5;124m'\u001b[39m\u001b[38;5;124mwb\u001b[39m\u001b[38;5;124m'\u001b[39m)\n\u001b[1;32m     40\u001b[0m pickle\u001b[38;5;241m.\u001b[39mdump(results_dict, output)\n\u001b[1;32m     41\u001b[0m output\u001b[38;5;241m.\u001b[39mclose()\n",
      "\u001b[0;31mFileNotFoundError\u001b[0m: [Errno 2] No such file or directory: 'results/smith_size10.pkl'"
     ]
    }
   ],
   "source": [
    "num_terminals = 10\n",
    "N = 1000\n",
    "time_arr = np.zeros(N)\n",
    "time_arr_low = np.array([])\n",
    "time_arr_high = np.array([])\n",
    "\n",
    "for k in tqdm(range(N)):\n",
    "    # generate random bot problem:\n",
    "    num_sources = np.random.randint(1, num_terminals)\n",
    "    num_sinks = num_terminals - num_sources\n",
    "    bot_problem_dict = generate_random_bot_problem(num_sources, num_sinks, normalised_to=1, dim=2,\n",
    "                                                           max_length=1.)\n",
    "\n",
    "    al = bot_problem_dict[\"al\"]\n",
    "    coords_sources = bot_problem_dict[\"coords_sources\"]\n",
    "    coords_sinks = bot_problem_dict[\"coords_sinks\"]\n",
    "    supply_arr = bot_problem_dict[\"supply_arr\"]\n",
    "    demand_arr = bot_problem_dict[\"demand_arr\"]\n",
    "\n",
    "    # generate random full tree topology:\n",
    "    topo = generate_random_binary_tree_topo(num_terminals)\n",
    "\n",
    "    time0 = time.time()\n",
    "    cost, coords_iter = iterative_bot_solver(topo, supply_arr, demand_arr, coords_sources, coords_sinks, al,\n",
    "                                             relative_improvement_threshold=1e-6, min_iterations=-1,\n",
    "                                             max_iterations=2000,\n",
    "                                             plot=False, title=\"\", fov=None, save=False, save_name=\"img\")\n",
    "    \n",
    "    dt = time.time() - time0\n",
    "    time_arr[k] = dt\n",
    "    if al <= 0.5:\n",
    "        time_arr_low = np.append(time_arr_low, dt)\n",
    "    else:\n",
    "        time_arr_high = np.append(time_arr_high, dt)\n",
    "        \n",
    "# store the results in a pickle file:\n",
    "results_dict = {\"time_arr\":time_arr, \"time_arr_low\":time_arr_low, \"time_arr_high\":time_arr_high}\n",
    "pkl_file_path = f\"results/smith_size{num_terminals}.pkl\"\n",
    "output = open(pkl_file_path, 'wb')\n",
    "pickle.dump(results_dict, output)\n",
    "output.close()"
   ]
  },
  {
   "cell_type": "code",
   "execution_count": null,
   "metadata": {},
   "outputs": [],
   "source": [
    "# plot the result:\n",
    "sizes = [10,20,30,50,70,100,150,200,300,400,500,600,700,800,900,1000]\n",
    "mean_arr = np.zeros(len(sizes))\n",
    "std_arr = np.zeros(len(sizes))\n",
    "mean_low_arr = np.zeros(len(sizes))\n",
    "mean_high_arr = np.zeros(len(sizes))\n",
    "\n",
    "for i,size in enumerate(sizes):\n",
    "    pkl_file_path = f\"../results/output_files/smith_size{size}.pkl\"\n",
    "    pkl_file = open(pkl_file_path, 'rb')\n",
    "    results_dict = pickle.load(pkl_file)\n",
    "    pkl_file.close()\n",
    "    \n",
    "    mean_arr[i] = np.mean(results_dict[\"time_arr\"])\n",
    "    std_arr[i] = np.std(results_dict[\"time_arr\"])\n",
    "    mean_low_arr[i] = np.mean(results_dict[\"time_arr_low\"])\n",
    "    mean_high_arr[i] = np.mean(results_dict[\"time_arr_high\"])"
   ]
  },
  {
   "cell_type": "code",
   "execution_count": null,
   "metadata": {},
   "outputs": [],
   "source": [
    "plt.errorbar(sizes, mean_arr, yerr=std_arr, fmt=\".-\", capsize=3, label=\"all $\\\\alpha$\")\n",
    "\n",
    "plt.plot(sizes, mean_low_arr, \":\", label=\"$\\\\alpha \\\\leq 0.5$\")\n",
    "plt.plot(sizes, mean_high_arr, \"--\", label=\"$\\\\alpha > 0.5$\", alpha = 0.8)\n",
    "\n",
    "\n",
    "plt.grid()\n",
    "plt.ylabel(\"runtime in $s$\", fontsize=12)\n",
    "plt.xlabel(\"number of terminals $n$\", fontsize=12)\n",
    "plt.xticks(fontsize=11)\n",
    "plt.yticks(fontsize=11)\n",
    "plt.legend(fontsize=12)\n",
    "#plt.savefig(\"smith.pdf\")\n",
    "plt.show()"
   ]
  },
  {
   "cell_type": "code",
   "execution_count": null,
   "metadata": {},
   "outputs": [],
   "source": []
  }
 ],
 "metadata": {
  "kernelspec": {
   "display_name": "Python 3 (ipykernel)",
   "language": "python",
   "name": "python3"
  },
  "language_info": {
   "codemirror_mode": {
    "name": "ipython",
    "version": 3
   },
   "file_extension": ".py",
   "mimetype": "text/x-python",
   "name": "python",
   "nbconvert_exporter": "python",
   "pygments_lexer": "ipython3",
   "version": "3.9.13"
  }
 },
 "nbformat": 4,
 "nbformat_minor": 4
}
