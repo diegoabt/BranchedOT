{
 "cells": [
  {
   "cell_type": "code",
   "execution_count": 1,
   "metadata": {
    "pycharm": {
     "name": "#%%\n"
    }
   },
   "outputs": [],
   "source": [
    "import numpy as np\n",
    "import matplotlib.pyplot as plt\n",
    "import networkx as nx\n",
    "import pickle\n",
    "import sys\n",
    "import time\n",
    "from tqdm import tqdm\n",
    "\n",
    "%load_ext autoreload\n",
    "%autoreload 2\n",
    "\n",
    "sys.path.append('../../ready functions in py/')\n",
    "\n",
    "from helper_fcts import *\n",
    "from iterative_BOT_solver import iterative_bot_solver\n",
    "from mc_update import monte_carlo_step\n",
    "from interpolating_prior import interpolated_prior"
   ]
  },
  {
   "cell_type": "code",
   "execution_count": 1,
   "metadata": {
    "pycharm": {
     "name": "#%%\n"
    }
   },
   "outputs": [
    {
     "ename": "NameError",
     "evalue": "name 'np' is not defined",
     "output_type": "error",
     "traceback": [
      "\u001b[0;31m---------------------------------------------------------------------------\u001b[0m",
      "\u001b[0;31mNameError\u001b[0m                                 Traceback (most recent call last)",
      "Cell \u001b[0;32mIn [1], line 6\u001b[0m\n\u001b[1;32m      3\u001b[0m terminals_list \u001b[38;5;241m=\u001b[39m [\u001b[38;5;241m5\u001b[39m, \u001b[38;5;241m6\u001b[39m, \u001b[38;5;241m7\u001b[39m, \u001b[38;5;241m8\u001b[39m, \u001b[38;5;241m9\u001b[39m]\n\u001b[1;32m      4\u001b[0m dim_arr \u001b[38;5;241m=\u001b[39m [\u001b[38;5;241m2\u001b[39m, \u001b[38;5;241m3\u001b[39m, \u001b[38;5;241m5\u001b[39m, \u001b[38;5;241m10\u001b[39m, \u001b[38;5;241m100\u001b[39m]\n\u001b[0;32m----> 6\u001b[0m all_brute_force_costs \u001b[38;5;241m=\u001b[39m np\u001b[38;5;241m.\u001b[39mzeros((\u001b[38;5;28mlen\u001b[39m(dim_arr), N\u001b[38;5;241m*\u001b[39m\u001b[38;5;28mlen\u001b[39m(terminals_list)))\n\u001b[1;32m      7\u001b[0m all_heuristic_costs \u001b[38;5;241m=\u001b[39m np\u001b[38;5;241m.\u001b[39mzeros((\u001b[38;5;28mlen\u001b[39m(dim_arr), N\u001b[38;5;241m*\u001b[39m\u001b[38;5;28mlen\u001b[39m(terminals_list)))\n\u001b[1;32m      8\u001b[0m all_sizes \u001b[38;5;241m=\u001b[39m np\u001b[38;5;241m.\u001b[39mzeros((\u001b[38;5;28mlen\u001b[39m(dim_arr), N\u001b[38;5;241m*\u001b[39m\u001b[38;5;28mlen\u001b[39m(terminals_list))) \n",
      "\u001b[0;31mNameError\u001b[0m: name 'np' is not defined"
     ]
    }
   ],
   "source": [
    "# comparison to greedy heuristic:\n",
    "N = 100\n",
    "terminals_list = [5, 6, 7, 8, 9]\n",
    "dim_arr = [2, 3, 5, 10, 100]\n",
    "\n",
    "all_brute_force_costs = np.zeros((len(dim_arr), N*len(terminals_list)))\n",
    "all_heuristic_costs = np.zeros((len(dim_arr), N*len(terminals_list)))\n",
    "all_sizes = np.zeros((len(dim_arr), N*len(terminals_list))) \n",
    "\n",
    "for k,dim in enumerate(dim_arr):\n",
    "    # open brute force files:\n",
    "    pkl_file_path = f\"tmp_output/brute-force_dim{dim}_results{N}.pkl\"\n",
    "    pkl_file = open(pkl_file_path, 'rb')\n",
    "    data_dict = pickle.load(pkl_file)\n",
    "    pkl_file.close()\n",
    "    \n",
    "    for key in data_dict:\n",
    "        #print(key)\n",
    "\n",
    "        solution = data_dict[key]\n",
    "        bot_problem_dict = solution[\"bot_problem_dict\"]\n",
    "        overall_best_topo = solution[\"overall_best_topo\"]\n",
    "        overall_best_cost = solution[\"overall_best_cost\"]\n",
    "        all_brute_force_costs[k, key] = overall_best_cost\n",
    "\n",
    "        al = bot_problem_dict[\"al\"]\n",
    "        coords_sources = bot_problem_dict[\"coords_sources\"]\n",
    "        coords_sinks = bot_problem_dict[\"coords_sinks\"]\n",
    "        supply_arr = bot_problem_dict[\"supply_arr\"]\n",
    "        demand_arr = bot_problem_dict[\"demand_arr\"]\n",
    "        all_sizes[k, key] = len(supply_arr) + len(demand_arr)\n",
    "\n",
    "        # compare to MC heuristic:\n",
    "        # use random tree as init:\n",
    "        topo = generate_random_binary_tree_topo(len(supply_arr) + len(demand_arr))\n",
    "\n",
    "        cost, coords_iter = iterative_bot_solver(topo, supply_arr, demand_arr, coords_sources, coords_sinks, al,\n",
    "                                                 relative_improvement_threshold=1e-6, min_iterations=-1,\n",
    "                                                 max_iterations=1000,\n",
    "                                                 plot=False, title=\"\", fov=None, save=False, save_name=\"img\")\n",
    "\n",
    "        # MC iterations:\n",
    "        T = 0\n",
    "        keep_going = True\n",
    "        iteration = 0\n",
    "        sample_edge_list = list(topo.edges())\n",
    "        while keep_going and iteration < 60000:\n",
    "            iteration += 1\n",
    "            topo, sample_edge_list, cost, coords_iter, accepted = monte_carlo_step(topo, sample_edge_list, cost,\n",
    "                                            coords_iter, bot_problem_dict, temperature=T)\n",
    "\n",
    "            # check if converged:\n",
    "            if len(sample_edge_list) == 0:\n",
    "                # this means that we have stuck with one topology for an entire run through.\n",
    "                keep_going = False\n",
    "                \n",
    "        \n",
    "        all_heuristic_costs[k, key] = cost\n",
    "        \n",
    "# reshape the cost arrays:\n",
    "all_brute_force_costs = all_brute_force_costs.reshape((len(dim_arr), len(terminals_list), N))\n",
    "all_heuristic_costs = all_heuristic_costs.reshape((len(dim_arr), len(terminals_list), N))\n",
    "all_sizes = all_sizes.reshape((len(dim_arr), len(terminals_list), N))"
   ]
  },
  {
   "cell_type": "code",
   "execution_count": 35,
   "metadata": {
    "collapsed": false,
    "jupyter": {
     "outputs_hidden": false
    },
    "pycharm": {
     "name": "#%%\n"
    }
   },
   "outputs": [
    {
     "name": "stdout",
     "output_type": "stream",
     "text": [
      "\n",
      "dim=2\n"
     ]
    },
    {
     "data": {
      "image/png": "[encoded data removed]",
      "text/plain": [
       "<Figure size 432x288 with 1 Axes>"
      ]
     },
     "metadata": {
      "needs_background": "light"
     },
     "output_type": "display_data"
    },
    {
     "name": "stdout",
     "output_type": "stream",
     "text": [
      "\n",
      "dim=3\n"
     ]
    },
    {
     "data": {
      "image/png": "[encoded data removed]",
      "text/plain": [
       "<Figure size 432x288 with 1 Axes>"
      ]
     },
     "metadata": {
      "needs_background": "light"
     },
     "output_type": "display_data"
    }
   ],
   "source": [
    "# take ratio:\n",
    "all_ratio_arr = all_heuristic_costs / all_brute_force_costs\n",
    "\n",
    "for k, dim in enumerate(dim_arr):\n",
    "    print(f\"\\ndim={dim}\")\n",
    "    ratio_arr_star = all_ratio_arr[k]\n",
    "    # plotting the ratios:\n",
    "    ratio_arr = np.clip(ratio_arr_star, 1.0, None)\n",
    "\n",
    "    for i in range(N):\n",
    "        if i == 0:\n",
    "            plt.plot(terminals_list, ratio_arr[:, i], \"bo\", alpha = 0.1, label=\"sample\")\n",
    "        else:\n",
    "            plt.plot(terminals_list, ratio_arr[:, i], \"bo\", alpha = 0.1)\n",
    "    plt.plot(terminals_list, np.mean(ratio_arr_star, axis = 1), marker=\"_\", markersize=30, mew=2, linestyle=\"\", color=\"orange\", label=\"mean\")\n",
    "    legend = plt.legend(fontsize=12)\n",
    "    sizes = [7,20]\n",
    "    for i,legend_handle in enumerate(legend.legendHandles):\n",
    "        legend_handle._legmarker.set_markersize(sizes[i])\n",
    "    plt.xlabel(\"number of terminals $n$\", fontsize=13)\n",
    "    plt.ylabel(\"average cost ratio\", fontsize=13)\n",
    "    #plt.grid()\n",
    "    plt.xticks(terminals_list, fontsize=13)\n",
    "    plt.yticks( fontsize=13)\n",
    "    plt.xlim(4.5,9.5)\n",
    "    #plt.savefig(\"MCratio.pdf\", bbox_inches=\"tight\")\n",
    "    plt.show()"
   ]
  },
  {
   "cell_type": "code",
   "execution_count": null,
   "metadata": {
    "pycharm": {
     "name": "#%%\n"
    }
   },
   "outputs": [],
   "source": []
  }
 ],
 "metadata": {
  "kernelspec": {
   "display_name": "Python 3 (ipykernel)",
   "language": "python",
   "name": "python3"
  },
  "language_info": {
   "codemirror_mode": {
    "name": "ipython",
    "version": 3
   },
   "file_extension": ".py",
   "mimetype": "text/x-python",
   "name": "python",
   "nbconvert_exporter": "python",
   "pygments_lexer": "ipython3",
   "version": "3.9.13"
  }
 },
 "nbformat": 4,
 "nbformat_minor": 4
}
