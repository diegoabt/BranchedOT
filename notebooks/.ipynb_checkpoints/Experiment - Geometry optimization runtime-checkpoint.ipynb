{
 "cells": [
  {
   "cell_type": "markdown",
   "metadata": {},
   "source": [
    "### Evaluate performance/ scaling of Smith solver"
   ]
  },
  {
   "cell_type": "code",
   "execution_count": 2,
   "metadata": {},
   "outputs": [
    {
     "name": "stdout",
     "output_type": "stream",
     "text": [
      "The autoreload extension is already loaded. To reload it, use:\n",
      "  %reload_ext autoreload\n"
     ]
    },
    {
     "ename": "ModuleNotFoundError",
     "evalue": "No module named 'iterative_BOT_solver'",
     "output_type": "error",
     "traceback": [
      "\u001b[0;31m---------------------------------------------------------------------------\u001b[0m",
      "\u001b[0;31mModuleNotFoundError\u001b[0m                       Traceback (most recent call last)",
      "\u001b[0;32m<ipython-input-2-ae9ceae4c90c>\u001b[0m in \u001b[0;36m<module>\u001b[0;34m\u001b[0m\n\u001b[1;32m     13\u001b[0m \u001b[0;34m\u001b[0m\u001b[0m\n\u001b[1;32m     14\u001b[0m \u001b[0;32mfrom\u001b[0m \u001b[0mhelper_fcts\u001b[0m \u001b[0;32mimport\u001b[0m \u001b[0mgenerate_random_bot_problem\u001b[0m\u001b[0;34m,\u001b[0m \u001b[0mgenerate_random_binary_tree_topo\u001b[0m\u001b[0;34m\u001b[0m\u001b[0;34m\u001b[0m\u001b[0m\n\u001b[0;32m---> 15\u001b[0;31m \u001b[0;32mfrom\u001b[0m \u001b[0miterative_BOT_solver\u001b[0m \u001b[0;32mimport\u001b[0m \u001b[0miterative_bot_solver\u001b[0m\u001b[0;34m\u001b[0m\u001b[0;34m\u001b[0m\u001b[0m\n\u001b[0m",
      "\u001b[0;31mModuleNotFoundError\u001b[0m: No module named 'iterative_BOT_solver'"
     ]
    }
   ],
   "source": [
    "import numpy as np\n",
    "import matplotlib.pyplot as plt\n",
    "import networkx as nx\n",
    "import pickle\n",
    "import sys\n",
    "import time\n",
    "from tqdm import tqdm\n",
    "\n",
    "%load_ext autoreload\n",
    "%autoreload 2\n",
    "\n",
    "sys.path.append('../helper functions/')\n",
    "\n",
    "from helper_fcts import generate_random_bot_problem, generate_random_binary_tree_topo\n",
    "from iterative_BOT_solver import iterative_bot_solver"
   ]
  },
  {
   "cell_type": "code",
   "execution_count": 2,
   "metadata": {},
   "outputs": [
    {
     "name": "stderr",
     "output_type": "stream",
     "text": [
      "100%|██████████| 1000/1000 [00:35<00:00, 28.38it/s]\n"
     ]
    }
   ],
   "source": [
    "num_terminals = 10\n",
    "N = 1000\n",
    "time_arr = np.zeros(N)\n",
    "time_arr_low = np.array([])\n",
    "time_arr_high = np.array([])\n",
    "\n",
    "for k in tqdm(range(N)):\n",
    "    # generate random bot problem:\n",
    "    num_sources = np.random.randint(1, num_terminals)\n",
    "    num_sinks = num_terminals - num_sources\n",
    "    bot_problem_dict = generate_random_bot_problem(num_sources, num_sinks, normalised_to=1, dim=2,\n",
    "                                                           max_length=1.)\n",
    "\n",
    "    al = bot_problem_dict[\"al\"]\n",
    "    coords_sources = bot_problem_dict[\"coords_sources\"]\n",
    "    coords_sinks = bot_problem_dict[\"coords_sinks\"]\n",
    "    supply_arr = bot_problem_dict[\"supply_arr\"]\n",
    "    demand_arr = bot_problem_dict[\"demand_arr\"]\n",
    "\n",
    "    # generate random full tree topology:\n",
    "    topo = generate_random_binary_tree_topo(num_terminals)\n",
    "\n",
    "    time0 = time.time()\n",
    "    cost, coords_iter = iterative_bot_solver(topo, supply_arr, demand_arr, coords_sources, coords_sinks, al,\n",
    "                                             relative_improvement_threshold=1e-6, min_iterations=-1,\n",
    "                                             max_iterations=2000,\n",
    "                                             plot=False, title=\"\", fov=None, save=False, save_name=\"img\")\n",
    "    \n",
    "    dt = time.time() - time0\n",
    "    time_arr[k] = dt\n",
    "    if al <= 0.5:\n",
    "        time_arr_low = np.append(time_arr_low, dt)\n",
    "    else:\n",
    "        time_arr_high = np.append(time_arr_high, dt)\n",
    "        \n",
    "# store the results in a pickle file:\n",
    "results_dict = {\"time_arr\":time_arr, \"time_arr_low\":time_arr_low, \"time_arr_high\":time_arr_high}\n",
    "pkl_file_path = f\"results/smith_size{num_terminals}.pkl\"\n",
    "output = open(pkl_file_path, 'wb')\n",
    "pickle.dump(results_dict, output)\n",
    "output.close()"
   ]
  },
  {
   "cell_type": "code",
   "execution_count": 3,
   "metadata": {},
   "outputs": [],
   "source": [
    "# plot the result:\n",
    "sizes = [10,20,30,50,70,100,150,200,300,400,500,600,700,800,900,1000]\n",
    "mean_arr = np.zeros(len(sizes))\n",
    "std_arr = np.zeros(len(sizes))\n",
    "mean_low_arr = np.zeros(len(sizes))\n",
    "mean_high_arr = np.zeros(len(sizes))\n",
    "\n",
    "for i,size in enumerate(sizes):\n",
    "    pkl_file_path = f\"results/smith_size{size}.pkl\"\n",
    "    pkl_file = open(pkl_file_path, 'rb')\n",
    "    results_dict = pickle.load(pkl_file)\n",
    "    pkl_file.close()\n",
    "    \n",
    "    mean_arr[i] = np.mean(results_dict[\"time_arr\"])\n",
    "    std_arr[i] = np.std(results_dict[\"time_arr\"])\n",
    "    mean_low_arr[i] = np.mean(results_dict[\"time_arr_low\"])\n",
    "    mean_high_arr[i] = np.mean(results_dict[\"time_arr_high\"])"
   ]
  },
  {
   "cell_type": "code",
   "execution_count": 4,
   "metadata": {},
   "outputs": [
    {
     "data": {
      "image/png": "[encoded data removed]",
      "text/plain": [
       "<Figure size 432x288 with 1 Axes>"
      ]
     },
     "metadata": {
      "needs_background": "light"
     },
     "output_type": "display_data"
    }
   ],
   "source": [
    "plt.errorbar(sizes, mean_arr, yerr=std_arr, fmt=\".-\", capsize=3, label=\"all $\\\\alpha$\")\n",
    "\n",
    "plt.plot(sizes, mean_low_arr, \":\", label=\"$\\\\alpha \\\\leq 0.5$\")\n",
    "plt.plot(sizes, mean_high_arr, \"--\", label=\"$\\\\alpha > 0.5$\", alpha = 0.8)\n",
    "\n",
    "\n",
    "plt.grid()\n",
    "plt.ylabel(\"runtime in $s$\", fontsize=12)\n",
    "plt.xlabel(\"number of terminals $n$\", fontsize=12)\n",
    "plt.xticks(fontsize=11)\n",
    "plt.yticks(fontsize=11)\n",
    "plt.legend(fontsize=12)\n",
    "#plt.savefig(\"smith.pdf\")\n",
    "plt.show()"
   ]
  },
  {
   "cell_type": "code",
   "execution_count": null,
   "metadata": {},
   "outputs": [],
   "source": []
  }
 ],
 "metadata": {
  "kernelspec": {
   "display_name": "Python 3",
   "language": "python",
   "name": "python3"
  },
  "language_info": {
   "codemirror_mode": {
    "name": "ipython",
    "version": 3
   },
   "file_extension": ".py",
   "mimetype": "text/x-python",
   "name": "python",
   "nbconvert_exporter": "python",
   "pygments_lexer": "ipython3",
   "version": "3.8.5"
  }
 },
 "nbformat": 4,
 "nbformat_minor": 4
}
