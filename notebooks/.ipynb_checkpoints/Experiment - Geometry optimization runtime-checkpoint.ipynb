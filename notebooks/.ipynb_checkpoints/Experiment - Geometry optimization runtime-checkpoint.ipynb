{
 "cells": [
  {
   "cell_type": "markdown",
   "metadata": {
    "tags": []
   },
   "source": [
    "# Experiment: Investigate the run time of numerical geometry optimization"
   ]
  },
  {
   "cell_type": "code",
   "execution_count": 1,
   "metadata": {},
   "outputs": [],
   "source": [
    "import numpy as np\n",
    "import matplotlib.pyplot as plt\n",
    "import networkx as nx\n",
    "import pickle\n",
    "import sys\n",
    "import time\n",
    "from tqdm.auto import tqdm\n",
    "\n",
    "%load_ext autoreload\n",
    "%autoreload 2\n",
    "\n",
    "sys.path.append('../src/')\n",
    "\n",
    "from utils import generate_random_bot_problem, generate_random_binary_tree_topo\n",
    "from iterative_geometry_solver import iterative_geometry_solver"
   ]
  },
  {
   "cell_type": "code",
   "execution_count": 2,
   "metadata": {},
   "outputs": [
    {
     "name": "stdout",
     "output_type": "stream",
     "text": [
      "num_terminals=10\n"
     ]
    },
    {
     "data": {
      "application/vnd.jupyter.widget-view+json": {
       "model_id": "f3b9c3deefcd48e58d00b7e4f87bb6da",
       "version_major": 2,
       "version_minor": 0
      },
      "text/plain": [
       "  0%|          | 0/1000 [00:00<?, ?it/s]"
      ]
     },
     "metadata": {},
     "output_type": "display_data"
    },
    {
     "name": "stdout",
     "output_type": "stream",
     "text": [
      "num_terminals=20\n"
     ]
    },
    {
     "data": {
      "application/vnd.jupyter.widget-view+json": {
       "model_id": "413ad571ca034f7f86060f610e7878af",
       "version_major": 2,
       "version_minor": 0
      },
      "text/plain": [
       "  0%|          | 0/1000 [00:00<?, ?it/s]"
      ]
     },
     "metadata": {},
     "output_type": "display_data"
    },
    {
     "name": "stdout",
     "output_type": "stream",
     "text": [
      "num_terminals=30\n"
     ]
    },
    {
     "data": {
      "application/vnd.jupyter.widget-view+json": {
       "model_id": "b547f74e07074e4287b0772c78deb805",
       "version_major": 2,
       "version_minor": 0
      },
      "text/plain": [
       "  0%|          | 0/1000 [00:00<?, ?it/s]"
      ]
     },
     "metadata": {},
     "output_type": "display_data"
    },
    {
     "name": "stdout",
     "output_type": "stream",
     "text": [
      "num_terminals=50\n"
     ]
    },
    {
     "data": {
      "application/vnd.jupyter.widget-view+json": {
       "model_id": "01380c4432614028b1e1c0dcc1b484f3",
       "version_major": 2,
       "version_minor": 0
      },
      "text/plain": [
       "  0%|          | 0/1000 [00:00<?, ?it/s]"
      ]
     },
     "metadata": {},
     "output_type": "display_data"
    },
    {
     "name": "stdout",
     "output_type": "stream",
     "text": [
      "num_terminals=70\n"
     ]
    },
    {
     "data": {
      "application/vnd.jupyter.widget-view+json": {
       "model_id": "aca48543e4ff475bb8e88ed1535e0b48",
       "version_major": 2,
       "version_minor": 0
      },
      "text/plain": [
       "  0%|          | 0/1000 [00:00<?, ?it/s]"
      ]
     },
     "metadata": {},
     "output_type": "display_data"
    },
    {
     "name": "stdout",
     "output_type": "stream",
     "text": [
      "num_terminals=100\n"
     ]
    },
    {
     "data": {
      "application/vnd.jupyter.widget-view+json": {
       "model_id": "ff4856eeba0c47ac948344ee0ff44a07",
       "version_major": 2,
       "version_minor": 0
      },
      "text/plain": [
       "  0%|          | 0/1000 [00:00<?, ?it/s]"
      ]
     },
     "metadata": {},
     "output_type": "display_data"
    },
    {
     "name": "stdout",
     "output_type": "stream",
     "text": [
      "num_terminals=150\n"
     ]
    },
    {
     "data": {
      "application/vnd.jupyter.widget-view+json": {
       "model_id": "b19f227fa0d64f3cbc8db8b2162ccf4d",
       "version_major": 2,
       "version_minor": 0
      },
      "text/plain": [
       "  0%|          | 0/1000 [00:00<?, ?it/s]"
      ]
     },
     "metadata": {},
     "output_type": "display_data"
    },
    {
     "name": "stdout",
     "output_type": "stream",
     "text": [
      "num_terminals=200\n"
     ]
    },
    {
     "data": {
      "application/vnd.jupyter.widget-view+json": {
       "model_id": "fd87f589efbd4d13b271b40a2380872e",
       "version_major": 2,
       "version_minor": 0
      },
      "text/plain": [
       "  0%|          | 0/1000 [00:00<?, ?it/s]"
      ]
     },
     "metadata": {},
     "output_type": "display_data"
    },
    {
     "name": "stdout",
     "output_type": "stream",
     "text": [
      "num_terminals=300\n"
     ]
    },
    {
     "data": {
      "application/vnd.jupyter.widget-view+json": {
       "model_id": "5951c123f71742c582047fbf47bcae02",
       "version_major": 2,
       "version_minor": 0
      },
      "text/plain": [
       "  0%|          | 0/1000 [00:00<?, ?it/s]"
      ]
     },
     "metadata": {},
     "output_type": "display_data"
    },
    {
     "name": "stdout",
     "output_type": "stream",
     "text": [
      "num_terminals=400\n"
     ]
    },
    {
     "data": {
      "application/vnd.jupyter.widget-view+json": {
       "model_id": "1597d8eaf44d479087cb368f7e4309a4",
       "version_major": 2,
       "version_minor": 0
      },
      "text/plain": [
       "  0%|          | 0/1000 [00:00<?, ?it/s]"
      ]
     },
     "metadata": {},
     "output_type": "display_data"
    },
    {
     "name": "stdout",
     "output_type": "stream",
     "text": [
      "num_terminals=500\n"
     ]
    },
    {
     "data": {
      "application/vnd.jupyter.widget-view+json": {
       "model_id": "9a2d9ab176c841e68d296d1124bad11e",
       "version_major": 2,
       "version_minor": 0
      },
      "text/plain": [
       "  0%|          | 0/1000 [00:00<?, ?it/s]"
      ]
     },
     "metadata": {},
     "output_type": "display_data"
    },
    {
     "name": "stdout",
     "output_type": "stream",
     "text": [
      "num_terminals=600\n"
     ]
    },
    {
     "data": {
      "application/vnd.jupyter.widget-view+json": {
       "model_id": "d44db93cd6a9499d8bcf67d58ecd0af7",
       "version_major": 2,
       "version_minor": 0
      },
      "text/plain": [
       "  0%|          | 0/1000 [00:00<?, ?it/s]"
      ]
     },
     "metadata": {},
     "output_type": "display_data"
    },
    {
     "name": "stdout",
     "output_type": "stream",
     "text": [
      "num_terminals=700\n"
     ]
    },
    {
     "data": {
      "application/vnd.jupyter.widget-view+json": {
       "model_id": "fc01a8783070490cbb4b67826d516585",
       "version_major": 2,
       "version_minor": 0
      },
      "text/plain": [
       "  0%|          | 0/1000 [00:00<?, ?it/s]"
      ]
     },
     "metadata": {},
     "output_type": "display_data"
    },
    {
     "name": "stdout",
     "output_type": "stream",
     "text": [
      "num_terminals=800\n"
     ]
    },
    {
     "data": {
      "application/vnd.jupyter.widget-view+json": {
       "model_id": "0a80d05d6b434c11b6a7771fdf0f1c59",
       "version_major": 2,
       "version_minor": 0
      },
      "text/plain": [
       "  0%|          | 0/1000 [00:00<?, ?it/s]"
      ]
     },
     "metadata": {},
     "output_type": "display_data"
    },
    {
     "name": "stdout",
     "output_type": "stream",
     "text": [
      "num_terminals=900\n"
     ]
    },
    {
     "data": {
      "application/vnd.jupyter.widget-view+json": {
       "model_id": "b4fe583256b44e4a878add1d83fc4491",
       "version_major": 2,
       "version_minor": 0
      },
      "text/plain": [
       "  0%|          | 0/1000 [00:00<?, ?it/s]"
      ]
     },
     "metadata": {},
     "output_type": "display_data"
    },
    {
     "name": "stdout",
     "output_type": "stream",
     "text": [
      "num_terminals=1000\n"
     ]
    },
    {
     "data": {
      "application/vnd.jupyter.widget-view+json": {
       "model_id": "c28d589f92514fe7a18987c02bd2c6a2",
       "version_major": 2,
       "version_minor": 0
      },
      "text/plain": [
       "  0%|          | 0/1000 [00:00<?, ?it/s]"
      ]
     },
     "metadata": {},
     "output_type": "display_data"
    }
   ],
   "source": [
    "num_terminals_list = [10,20,30,50,70,100,150,200,300,400,500,600,700,800,900,1000]\n",
    "N = 1000\n",
    "\n",
    "for num_terminals in num_terminals_list:\n",
    "    time_arr = np.zeros(N)\n",
    "    time_arr_low = np.array([])\n",
    "    time_arr_high = np.array([])\n",
    "    print(f\"{num_terminals=}\")\n",
    "    for k in tqdm(range(N)):\n",
    "        # generate random bot problem:\n",
    "        num_sources = np.random.randint(1, num_terminals)\n",
    "        num_sinks = num_terminals - num_sources\n",
    "        bot_problem_dict = generate_random_bot_problem(num_sources, num_sinks, normalised_to=1, dim=2,\n",
    "                                                               max_length=1.)\n",
    "\n",
    "        al = bot_problem_dict[\"al\"]\n",
    "        coords_sources = bot_problem_dict[\"coords_sources\"]\n",
    "        coords_sinks = bot_problem_dict[\"coords_sinks\"]\n",
    "        supply_arr = bot_problem_dict[\"supply_arr\"]\n",
    "        demand_arr = bot_problem_dict[\"demand_arr\"]\n",
    "\n",
    "        # generate random full tree topology:\n",
    "        topo = generate_random_binary_tree_topo(num_terminals)\n",
    "\n",
    "        time0 = time.time()\n",
    "        cost, coords_iter = iterative_geometry_solver(topo, supply_arr, demand_arr, coords_sources, coords_sinks, al,\n",
    "                                                 relative_improvement_threshold=1e-6, min_iterations=-1,\n",
    "                                                 max_iterations=2000,\n",
    "                                                 plot=False, title=\"\", fov=None, save=False, save_name=\"img\")\n",
    "\n",
    "        dt = time.time() - time0\n",
    "        time_arr[k] = dt\n",
    "        if al <= 0.5:\n",
    "            time_arr_low = np.append(time_arr_low, dt)\n",
    "        else:\n",
    "            time_arr_high = np.append(time_arr_high, dt)\n",
    "\n",
    "    # store the results in a pickle file:\n",
    "    results_dict = {\"time_arr\":time_arr, \"time_arr_low\":time_arr_low, \"time_arr_high\":time_arr_high}\n",
    "    pkl_file_path = f\"../results/output_files/geom_optimization_size{num_terminals}.pkl\"\n",
    "    output = open(pkl_file_path, 'wb')\n",
    "    pickle.dump(results_dict, output)\n",
    "    output.close()"
   ]
  },
  {
   "cell_type": "code",
   "execution_count": 8,
   "metadata": {},
   "outputs": [
    {
     "data": {
      "image/png": "[encoded data removed]",
      "text/plain": [
       "<Figure size 640x480 with 1 Axes>"
      ]
     },
     "metadata": {},
     "output_type": "display_data"
    }
   ],
   "source": [
    "# plot the result:\n",
    "mean_arr = np.zeros(len(num_terminals_list))\n",
    "std_arr = np.zeros(len(num_terminals_list))\n",
    "mean_low_arr = np.zeros(len(num_terminals_list))\n",
    "mean_high_arr = np.zeros(len(num_terminals_list))\n",
    "\n",
    "for i,num_terminals in enumerate(num_terminals_list):\n",
    "    pkl_file_path = f\"../results/output_files/geom_optimization_size{num_terminals}.pkl\"\n",
    "    pkl_file = open(pkl_file_path, 'rb')\n",
    "    results_dict = pickle.load(pkl_file)\n",
    "    pkl_file.close()\n",
    "    \n",
    "    mean_arr[i] = np.mean(results_dict[\"time_arr\"])\n",
    "    std_arr[i] = np.std(results_dict[\"time_arr\"])\n",
    "    mean_low_arr[i] = np.mean(results_dict[\"time_arr_low\"])\n",
    "    mean_high_arr[i] = np.mean(results_dict[\"time_arr_high\"])\n",
    "    \n",
    "plt.errorbar(num_terminals_list, mean_arr, yerr=std_arr, fmt=\".-\", capsize=3, label=\"all $\\\\alpha$\")\n",
    "\n",
    "plt.plot(num_terminals_list, mean_low_arr, \":\", label=\"$\\\\alpha \\\\leq 0.5$\")\n",
    "plt.plot(num_terminals_list, mean_high_arr, \"--\", label=\"$\\\\alpha > 0.5$\", alpha = 0.8)\n",
    "\n",
    "plt.grid()\n",
    "plt.ylabel(\"runtime in $s$\", fontsize=12)\n",
    "plt.xlabel(\"number of terminals $n$\", fontsize=12)\n",
    "plt.xticks(fontsize=11)\n",
    "plt.yticks(fontsize=11)\n",
    "plt.legend(fontsize=12)\n",
    "#plt.savefig(\"geom_optimization_runtime.pdf\")\n",
    "plt.show()"
   ]
  },
  {
   "cell_type": "code",
   "execution_count": null,
   "metadata": {},
   "outputs": [],
   "source": []
  }
 ],
 "metadata": {
  "kernelspec": {
   "display_name": "Python 3 (ipykernel)",
   "language": "python",
   "name": "python3"
  },
  "language_info": {
   "codemirror_mode": {
    "name": "ipython",
    "version": 3
   },
   "file_extension": ".py",
   "mimetype": "text/x-python",
   "name": "python",
   "nbconvert_exporter": "python",
   "pygments_lexer": "ipython3",
   "version": "3.9.13"
  }
 },
 "nbformat": 4,
 "nbformat_minor": 4
}
