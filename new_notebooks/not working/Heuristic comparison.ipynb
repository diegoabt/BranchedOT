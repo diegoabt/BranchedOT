{
 "cells": [
  {
   "cell_type": "code",
   "execution_count": 1,
   "metadata": {},
   "outputs": [],
   "source": [
    "import numpy as np\n",
    "import networkx as nx\n",
    "import sys \n",
    "import pickle\n",
    "from tqdm import tqdm\n",
    "\n",
    "sys.path.append('../ready functions in py/')\n",
    "sys.path.append(\"../../Branching point optimization/code_remastered/\")\n",
    "\n",
    "%load_ext autoreload\n",
    "%autoreload 2\n",
    "\n",
    "from general_preprocessing import preprocess_from_topo_to_flows\n",
    "from iterative_BOT_solver import iterative_bot_solver\n",
    "from MST_prior import MST_prior_topology\n",
    "from OT_prior import OT_prior_topology\n",
    "from angular_stress_heuristic import *\n",
    "from helper_fcts import *\n",
    "\n",
    "from mc_update import monte_carlo_step\n",
    "from incremental_growth import incremental_growth_heuristic\n",
    "from interpolating_prior import interpolated_prior\n",
    "from angular_stress_heuristic import *"
   ]
  },
  {
   "cell_type": "code",
   "execution_count": 2,
   "metadata": {},
   "outputs": [
    {
     "name": "stderr",
     "output_type": "stream",
     "text": [
      "  1%|          | 576/50000 [00:35<50:29, 16.31it/s]  \n"
     ]
    },
    {
     "ename": "KeyboardInterrupt",
     "evalue": "",
     "output_type": "error",
     "traceback": [
      "\u001b[0;31m---------------------------------------------------------------------------\u001b[0m",
      "\u001b[0;31mKeyboardInterrupt\u001b[0m                         Traceback (most recent call last)",
      "\u001b[0;32m<ipython-input-2-ab80ffe73127>\u001b[0m in \u001b[0;36m<module>\u001b[0;34m\u001b[0m\n\u001b[1;32m     47\u001b[0m         \u001b[0mT\u001b[0m \u001b[0;34m=\u001b[0m \u001b[0mT\u001b[0m \u001b[0;34m*\u001b[0m \u001b[0mlam\u001b[0m\u001b[0;34m\u001b[0m\u001b[0;34m\u001b[0m\u001b[0m\n\u001b[1;32m     48\u001b[0m         \u001b[0mT_arr\u001b[0m\u001b[0;34m[\u001b[0m\u001b[0mi\u001b[0m\u001b[0;34m]\u001b[0m \u001b[0;34m=\u001b[0m \u001b[0mT\u001b[0m\u001b[0;34m\u001b[0m\u001b[0;34m\u001b[0m\u001b[0m\n\u001b[0;32m---> 49\u001b[0;31m         \u001b[0mtopo\u001b[0m\u001b[0;34m,\u001b[0m \u001b[0mcost\u001b[0m\u001b[0;34m,\u001b[0m \u001b[0mcoords_iter\u001b[0m\u001b[0;34m,\u001b[0m \u001b[0maccepted\u001b[0m \u001b[0;34m=\u001b[0m \u001b[0mmonte_carlo_step\u001b[0m\u001b[0;34m(\u001b[0m\u001b[0mtopo\u001b[0m\u001b[0;34m,\u001b[0m \u001b[0mcost\u001b[0m\u001b[0;34m,\u001b[0m \u001b[0mcoords_iter\u001b[0m\u001b[0;34m,\u001b[0m \u001b[0mbot_problem_dict\u001b[0m\u001b[0;34m,\u001b[0m \u001b[0mtemperature\u001b[0m\u001b[0;34m=\u001b[0m\u001b[0mT\u001b[0m\u001b[0;34m)\u001b[0m\u001b[0;34m\u001b[0m\u001b[0;34m\u001b[0m\u001b[0m\n\u001b[0m\u001b[1;32m     50\u001b[0m         \u001b[0mcost_arr\u001b[0m\u001b[0;34m[\u001b[0m\u001b[0mi\u001b[0m\u001b[0;34m]\u001b[0m \u001b[0;34m=\u001b[0m \u001b[0mcost\u001b[0m\u001b[0;34m\u001b[0m\u001b[0;34m\u001b[0m\u001b[0m\n\u001b[1;32m     51\u001b[0m \u001b[0;34m\u001b[0m\u001b[0m\n",
      "\u001b[0;32m~/Desktop/Master Thesis/All Code (Repo)/clean rewriting things/ready functions in py/mc_update.py\u001b[0m in \u001b[0;36mmonte_carlo_step\u001b[0;34m(topo, cost, coords_arr, bot_problem_dict, temperature)\u001b[0m\n\u001b[1;32m    147\u001b[0m     \u001b[0mtopo\u001b[0m\u001b[0;34m.\u001b[0m\u001b[0madd_edges_from\u001b[0m\u001b[0;34m(\u001b[0m\u001b[0;34m[\u001b[0m\u001b[0;34m(\u001b[0m\u001b[0mchosen_edge\u001b[0m\u001b[0;34m[\u001b[0m\u001b[0;36m0\u001b[0m\u001b[0;34m]\u001b[0m\u001b[0;34m,\u001b[0m \u001b[0mbp_new\u001b[0m\u001b[0;34m)\u001b[0m\u001b[0;34m,\u001b[0m \u001b[0;34m(\u001b[0m\u001b[0mbp_new\u001b[0m\u001b[0;34m,\u001b[0m \u001b[0mchosen_edge\u001b[0m\u001b[0;34m[\u001b[0m\u001b[0;36m1\u001b[0m\u001b[0;34m]\u001b[0m\u001b[0;34m)\u001b[0m\u001b[0;34m,\u001b[0m \u001b[0;34m(\u001b[0m\u001b[0mbp_new\u001b[0m\u001b[0;34m,\u001b[0m \u001b[0mconnector\u001b[0m\u001b[0;34m)\u001b[0m\u001b[0;34m]\u001b[0m\u001b[0;34m)\u001b[0m\u001b[0;34m\u001b[0m\u001b[0;34m\u001b[0m\u001b[0m\n\u001b[1;32m    148\u001b[0m \u001b[0;34m\u001b[0m\u001b[0m\n\u001b[0;32m--> 149\u001b[0;31m     new_cost, coords_iter = iterative_bot_solver(topo, supply_arr, demand_arr, coords_sources, coords_sinks, al,\n\u001b[0m\u001b[1;32m    150\u001b[0m                                              \u001b[0mrelative_improvement_threshold\u001b[0m\u001b[0;34m=\u001b[0m\u001b[0;36m1e-6\u001b[0m\u001b[0;34m,\u001b[0m \u001b[0mmin_iterations\u001b[0m\u001b[0;34m=\u001b[0m\u001b[0;34m-\u001b[0m\u001b[0;36m1\u001b[0m\u001b[0;34m,\u001b[0m\u001b[0;34m\u001b[0m\u001b[0;34m\u001b[0m\u001b[0m\n\u001b[1;32m    151\u001b[0m                                                  \u001b[0mmax_iterations\u001b[0m\u001b[0;34m=\u001b[0m\u001b[0;36m1000\u001b[0m\u001b[0;34m,\u001b[0m\u001b[0;34m\u001b[0m\u001b[0;34m\u001b[0m\u001b[0m\n",
      "\u001b[0;32m~/Desktop/Master Thesis/All Code (Repo)/clean rewriting things/ready functions in py/iterative_BOT_solver.py\u001b[0m in \u001b[0;36miterative_bot_solver\u001b[0;34m(topo, supply_arr, demand_arr, coords_sources, coords_sinks, al, relative_improvement_threshold, min_iterations, max_iterations, plot, title, fov, save, save_name)\u001b[0m\n\u001b[1;32m    111\u001b[0m         \u001b[0msum_separator_tot\u001b[0m\u001b[0;34m[\u001b[0m\u001b[0mi\u001b[0m\u001b[0;34m,\u001b[0m \u001b[0;36m0\u001b[0m\u001b[0;34m]\u001b[0m \u001b[0;34m=\u001b[0m \u001b[0mcurrent_separator_tot\u001b[0m\u001b[0;34m\u001b[0m\u001b[0;34m\u001b[0m\u001b[0m\n\u001b[1;32m    112\u001b[0m         \u001b[0;32mfor\u001b[0m \u001b[0mneighbour\u001b[0m \u001b[0;32min\u001b[0m \u001b[0mnx\u001b[0m\u001b[0;34m.\u001b[0m\u001b[0mneighbors\u001b[0m\u001b[0;34m(\u001b[0m\u001b[0mtopo\u001b[0m\u001b[0;34m,\u001b[0m \u001b[0mbp\u001b[0m\u001b[0;34m)\u001b[0m\u001b[0;34m:\u001b[0m\u001b[0;34m\u001b[0m\u001b[0;34m\u001b[0m\u001b[0m\n\u001b[0;32m--> 113\u001b[0;31m             \u001b[0mweight\u001b[0m \u001b[0;34m=\u001b[0m \u001b[0mnp\u001b[0m\u001b[0;34m.\u001b[0m\u001b[0mabs\u001b[0m\u001b[0;34m(\u001b[0m\u001b[0mtopo\u001b[0m\u001b[0;34m[\u001b[0m\u001b[0mbp\u001b[0m\u001b[0;34m]\u001b[0m\u001b[0;34m[\u001b[0m\u001b[0mneighbour\u001b[0m\u001b[0;34m]\u001b[0m\u001b[0;34m[\u001b[0m\u001b[0;34m\"weight\"\u001b[0m\u001b[0;34m]\u001b[0m\u001b[0;34m)\u001b[0m \u001b[0;34m**\u001b[0m \u001b[0mal\u001b[0m\u001b[0;34m\u001b[0m\u001b[0;34m\u001b[0m\u001b[0m\n\u001b[0m\u001b[1;32m    114\u001b[0m             \u001b[0medges_arr_tot\u001b[0m \u001b[0;34m=\u001b[0m \u001b[0mnp\u001b[0m\u001b[0;34m.\u001b[0m\u001b[0mappend\u001b[0m\u001b[0;34m(\u001b[0m\u001b[0medges_arr_tot\u001b[0m\u001b[0;34m,\u001b[0m \u001b[0;34m[\u001b[0m\u001b[0mbp\u001b[0m\u001b[0;34m,\u001b[0m \u001b[0mneighbour\u001b[0m\u001b[0;34m]\u001b[0m\u001b[0;34m)\u001b[0m\u001b[0;34m\u001b[0m\u001b[0;34m\u001b[0m\u001b[0m\n\u001b[1;32m    115\u001b[0m             \u001b[0medge_weights_arr_tot\u001b[0m \u001b[0;34m=\u001b[0m \u001b[0mnp\u001b[0m\u001b[0;34m.\u001b[0m\u001b[0mappend\u001b[0m\u001b[0;34m(\u001b[0m\u001b[0medge_weights_arr_tot\u001b[0m\u001b[0;34m,\u001b[0m \u001b[0mweight\u001b[0m\u001b[0;34m)\u001b[0m\u001b[0;34m\u001b[0m\u001b[0;34m\u001b[0m\u001b[0m\n",
      "\u001b[0;31mKeyboardInterrupt\u001b[0m: "
     ]
    }
   ],
   "source": [
    "# idea for every problem devide the cost through the baseline cost.\n",
    "\n",
    "num_terminals = 100\n",
    "num_problems = 1\n",
    "seed = 19\n",
    "plot_final = True\n",
    "\n",
    "data_dict = {}\n",
    "cost_types = np.zeros(2)\n",
    "np.random.seed(seed)\n",
    "\n",
    "for i in range(num_problems):\n",
    "\n",
    "    # generate a random problem:\n",
    "    num_sources = np.random.randint(1, num_terminals)\n",
    "    num_sinks = num_terminals - num_sources\n",
    "    bot_problem_dict = generate_random_bot_problem(num_sources, num_sinks, normalised_to=1, dim=2,\n",
    "                                                   max_length=1.)\n",
    "    \n",
    "\n",
    "    # 1) use the MC baseline:\n",
    "    N = 50000 #iterations\n",
    "    tau = 1e-4 #fraction of temperature left after half of the iterations\n",
    "\n",
    "    al = bot_problem_dict[\"al\"]\n",
    "    coords_sources = bot_problem_dict[\"coords_sources\"]\n",
    "    coords_sinks = bot_problem_dict[\"coords_sinks\"]\n",
    "    supply_arr = bot_problem_dict[\"supply_arr\"]\n",
    "    demand_arr = bot_problem_dict[\"demand_arr\"]\n",
    "\n",
    "    # init star graph:\n",
    "    topo = nx.Graph()\n",
    "    for node in range(len(supply_arr) + len(demand_arr)):\n",
    "        topo.add_edge(-1, node)\n",
    "\n",
    "    cost, coords_iter = iterative_bot_solver(topo, supply_arr, demand_arr, coords_sources, coords_sinks, al,\n",
    "                                        relative_improvement_threshold=1e-6, min_iterations=-1, max_iterations=1000,\n",
    "                                        plot=False, title=\"\", fov=None, save=False, save_name=\"img\")\n",
    "\n",
    "    # MC iterations:\n",
    "    cost_arr = np.zeros(N)\n",
    "    T_arr = np.zeros(N)\n",
    "    #T = cost\n",
    "    T = 0\n",
    "    lam = tau**(2/N)\n",
    "    for i in tqdm(range(N)):\n",
    "        T = T * lam\n",
    "        T_arr[i] = T\n",
    "        topo, cost, coords_iter, accepted = monte_carlo_step(topo, cost, coords_iter, bot_problem_dict, temperature=T)\n",
    "        cost_arr[i] = cost\n",
    "\n",
    "    MC_cost, _ = iterative_bot_solver(topo, supply_arr, demand_arr, coords_sources, coords_sinks, al,\n",
    "                                         relative_improvement_threshold=1e-6, min_iterations=-1, max_iterations=1000,\n",
    "                                         plot=plot_final, title=\"\", fov=None, save=False, save_name=\"img\")\n",
    "    MC_topo = topo.copy()\n",
    "\n",
    "    plt.plot(np.arange(N), cost_arr)\n",
    "    plt.show()\n",
    "    plt.plot(np.arange(N), T_arr)\n",
    "    plt.show()\n",
    "\n",
    "    # 2) next apply the incremental growth heuristic:\n",
    "    m = 4\n",
    "    growth_cost, growth_topo = incremental_growth_heuristic(bot_problem_dict, m, plot=False, final_plot=plot_final)\n",
    "\n",
    "    # 3) stress reduction with learnable prior:\n",
    "    beta = 1 - al\n",
    "    int_prior_topo = interpolated_prior(bot_problem_dict, beta)\n",
    "    stress_cost, stress_topo = angular_stress_reduction(int_prior_topo, bot_problem_dict, plot_final=plot_final, plot=False)\n",
    "\n",
    "    cost_types[0] += growth_cost / MC_cost\n",
    "    cost_types[1] += stress_cost / MC_cost\n",
    "    \n",
    "    data_dict[i] = {\"bot_problem_dict\":bot_problem_dict, \n",
    "                    \"MC_topo\":MC_topo,\n",
    "                    \"growth_topo\":growth_topo,\n",
    "                    \"stress_topo\":stress_topo,\n",
    "                    \"MC_cost\":MC_cost,\n",
    "                    \"growth_cost\":growth_cost,\n",
    "                    \"stress_cost\":stress_cost\n",
    "                   }\n",
    "    \n",
    "pkl_file_path = f\"stored/{num_terminals}_probs{num_problems}_seed{seed}_heuristic_comparison.pkl\"\n",
    "output = open(pkl_file_path, 'wb')\n",
    "pickle.dump(data_dict, output)\n",
    "output.close()"
   ]
  },
  {
   "cell_type": "code",
   "execution_count": 4,
   "metadata": {},
   "outputs": [
    {
     "data": {
      "text/plain": [
       "{299: {'bot_problem_dict': {'al': 0.4127429369608906,\n",
       "   'coords_sources': array([[0.71530938, 0.25787767],\n",
       "          [0.67563267, 0.04021347],\n",
       "          [0.11753557, 0.00814826],\n",
       "          [0.98049457, 0.60324411],\n",
       "          [0.84901482, 0.54402633],\n",
       "          [0.05177373, 0.71695237]]),\n",
       "   'coords_sinks': array([[0.26329489, 0.59745597],\n",
       "          [0.86711665, 0.46962171],\n",
       "          [0.18151791, 0.52310778],\n",
       "          [0.64263515, 0.5593644 ],\n",
       "          [0.61109228, 0.70377718],\n",
       "          [0.14339506, 0.97453851],\n",
       "          [0.33250533, 0.91075544]]),\n",
       "   'supply_arr': array([0.15669541, 0.19975586, 0.20725158, 0.18590731, 0.02127794,\n",
       "          0.22911189]),\n",
       "   'demand_arr': array([0.18297721, 0.15796735, 0.16617097, 0.16206654, 0.09899895,\n",
       "          0.0971025 , 0.13471648])},\n",
       "  'MC_topo': <networkx.classes.graph.Graph at 0x7fd67de5fe80>,\n",
       "  'growth_topo': <networkx.classes.graph.Graph at 0x7fd67dd8d9a0>,\n",
       "  'stress_topo': <networkx.classes.graph.Graph at 0x7fd67dd7ed00>,\n",
       "  'MC_cost': 1.2354453020824903,\n",
       "  'growth_cost': 1.234864326787716,\n",
       "  'stress_cost': 1.2457176763888314}}"
      ]
     },
     "execution_count": 4,
     "metadata": {},
     "output_type": "execute_result"
    }
   ],
   "source": [
    "data_dict"
   ]
  },
  {
   "cell_type": "code",
   "execution_count": 7,
   "metadata": {},
   "outputs": [
    {
     "data": {
      "text/plain": [
       "1.19554729869105"
      ]
     },
     "execution_count": 7,
     "metadata": {},
     "output_type": "execute_result"
    }
   ],
   "source": [
    "growth_cost"
   ]
  },
  {
   "cell_type": "code",
   "execution_count": 2,
   "metadata": {},
   "outputs": [],
   "source": [
    "data_dict = {}\n",
    "pkl_file_path = f\"stored/a.pkl\"\n",
    "output = open(pkl_file_path, 'wb')\n",
    "pickle.dump(data_dict, output)\n",
    "output.close()"
   ]
  },
  {
   "cell_type": "code",
   "execution_count": 4,
   "metadata": {},
   "outputs": [
    {
     "data": {
      "text/plain": [
       "'stored/a.pkl'"
      ]
     },
     "execution_count": 4,
     "metadata": {},
     "output_type": "execute_result"
    }
   ],
   "source": [
    "pkl_file_path"
   ]
  },
  {
   "cell_type": "code",
   "execution_count": null,
   "metadata": {},
   "outputs": [],
   "source": []
  }
 ],
 "metadata": {
  "kernelspec": {
   "display_name": "Python 3 (ipykernel)",
   "language": "python",
   "name": "python3"
  },
  "language_info": {
   "codemirror_mode": {
    "name": "ipython",
    "version": 3
   },
   "file_extension": ".py",
   "mimetype": "text/x-python",
   "name": "python",
   "nbconvert_exporter": "python",
   "pygments_lexer": "ipython3",
   "version": "3.9.13"
  }
 },
 "nbformat": 4,
 "nbformat_minor": 4
}
